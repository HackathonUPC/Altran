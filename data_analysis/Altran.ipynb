{
 "cells": [
  {
   "cell_type": "code",
   "execution_count": 8,
   "metadata": {
    "collapsed": true
   },
   "outputs": [],
   "source": [
    "import pandas as pd\n",
    "import sqlite3"
   ]
  },
  {
   "cell_type": "code",
   "execution_count": 12,
   "metadata": {
    "collapsed": false
   },
   "outputs": [
    {
     "ename": "OperationalError",
     "evalue": "no such table: altran",
     "output_type": "error",
     "traceback": [
      "\u001b[0;31m---------------------------------------------------------------------------\u001b[0m",
      "\u001b[0;31mOperationalError\u001b[0m                          Traceback (most recent call last)",
      "\u001b[0;32m<ipython-input-12-08a057a6c667>\u001b[0m in \u001b[0;36m<module>\u001b[0;34m()\u001b[0m\n\u001b[1;32m      4\u001b[0m \u001b[0mc\u001b[0m \u001b[0;34m=\u001b[0m \u001b[0mconn\u001b[0m\u001b[0;34m.\u001b[0m\u001b[0mcursor\u001b[0m\u001b[0;34m(\u001b[0m\u001b[0;34m)\u001b[0m\u001b[0;34m\u001b[0m\u001b[0m\n\u001b[1;32m      5\u001b[0m \u001b[0;34m\u001b[0m\u001b[0m\n\u001b[0;32m----> 6\u001b[0;31m \u001b[0;32mfor\u001b[0m \u001b[0mrow\u001b[0m \u001b[0;32min\u001b[0m \u001b[0mc\u001b[0m\u001b[0;34m.\u001b[0m\u001b[0mexecute\u001b[0m\u001b[0;34m(\u001b[0m\u001b[0;34m\"SELECT * FROM altran\"\u001b[0m\u001b[0;34m)\u001b[0m\u001b[0;34m:\u001b[0m\u001b[0;34m\u001b[0m\u001b[0m\n\u001b[0m\u001b[1;32m      7\u001b[0m     \u001b[0;32mprint\u001b[0m\u001b[0;34m(\u001b[0m\u001b[0mrow\u001b[0m\u001b[0;34m)\u001b[0m\u001b[0;34m\u001b[0m\u001b[0m\n\u001b[1;32m      8\u001b[0m \u001b[0;34m\u001b[0m\u001b[0m\n",
      "\u001b[0;31mOperationalError\u001b[0m: no such table: altran"
     ]
    }
   ],
   "source": [
    "import sqlite3\n",
    "\n",
    "conn = sqlite3.connect(\"altran.db\")\n",
    "c = conn.cursor()\n",
    "\n",
    "for row in c.execute(\"SELECT * FROM altran\"):\n",
    "    print(row)\n",
    "\n",
    "conn.close()"
   ]
  },
  {
   "cell_type": "code",
   "execution_count": null,
   "metadata": {
    "collapsed": true
   },
   "outputs": [],
   "source": []
  },
  {
   "cell_type": "code",
   "execution_count": null,
   "metadata": {
    "collapsed": true
   },
   "outputs": [],
   "source": []
  },
  {
   "cell_type": "code",
   "execution_count": 2,
   "metadata": {
    "collapsed": false
   },
   "outputs": [
    {
     "name": "stderr",
     "output_type": "stream",
     "text": [
      "/usr/local/lib/python2.7/site-packages/pandas/io/parsers.py:1159: DtypeWarning: Columns (0,2,3,4,5,6,7,10,11,13,14,15,16,17,18,20,21,22,23) have mixed types. Specify dtype option on import or set low_memory=False.\n",
      "  data = self._reader.read(nrows)\n"
     ]
    }
   ],
   "source": [
    "columns = ['timestamp','date','lat','lng','signal_inst','signal_min','signal_max','signal_avg','carrier','fullCarrier','status','net','net_type','lac','cid','psc','speed','satellites','precision1','provider','activity','incident','downloadSpeed','uploadSpeed']\n",
    "data = pd.read_csv('/Users/krishna/Educational/HackUPC/data_export_cobercat/bigfile.csv', names = columns)"
   ]
  },
  {
   "cell_type": "code",
   "execution_count": 3,
   "metadata": {
    "collapsed": false
   },
   "outputs": [
    {
     "data": {
      "text/plain": [
       "(9664100, 24)"
      ]
     },
     "execution_count": 3,
     "metadata": {},
     "output_type": "execute_result"
    }
   ],
   "source": [
    "data.shape"
   ]
  },
  {
   "cell_type": "code",
   "execution_count": 4,
   "metadata": {
    "collapsed": false
   },
   "outputs": [
    {
     "data": {
      "text/html": [
       "<div style=\"max-height:1000px;max-width:1500px;overflow:auto;\">\n",
       "<table border=\"1\" class=\"dataframe\">\n",
       "  <thead>\n",
       "    <tr style=\"text-align: right;\">\n",
       "      <th></th>\n",
       "      <th>timestamp</th>\n",
       "      <th>date</th>\n",
       "      <th>lat</th>\n",
       "      <th>lng</th>\n",
       "      <th>signal_inst</th>\n",
       "      <th>signal_min</th>\n",
       "      <th>signal_max</th>\n",
       "      <th>signal_avg</th>\n",
       "      <th>carrier</th>\n",
       "      <th>fullCarrier</th>\n",
       "      <th>...</th>\n",
       "      <th>cid</th>\n",
       "      <th>psc</th>\n",
       "      <th>speed</th>\n",
       "      <th>satellites</th>\n",
       "      <th>precision1</th>\n",
       "      <th>provider</th>\n",
       "      <th>activity</th>\n",
       "      <th>incident</th>\n",
       "      <th>downloadSpeed</th>\n",
       "      <th>uploadSpeed</th>\n",
       "    </tr>\n",
       "  </thead>\n",
       "  <tbody>\n",
       "    <tr>\n",
       "      <th>count</th>\n",
       "      <td>       9664100</td>\n",
       "      <td>                    9664100</td>\n",
       "      <td> 9664100.00000</td>\n",
       "      <td> 9664100.00000</td>\n",
       "      <td> 9664100</td>\n",
       "      <td> 9664089</td>\n",
       "      <td> 9664089</td>\n",
       "      <td> 9664089</td>\n",
       "      <td>  9523974</td>\n",
       "      <td>  9523974</td>\n",
       "      <td>...</td>\n",
       "      <td> 9664089</td>\n",
       "      <td> 9664088</td>\n",
       "      <td> 9664088</td>\n",
       "      <td> 9664088</td>\n",
       "      <td> 9664086</td>\n",
       "      <td> 9664087</td>\n",
       "      <td> 9664087</td>\n",
       "      <td> 2109969</td>\n",
       "      <td> 3773</td>\n",
       "      <td> 3773</td>\n",
       "    </tr>\n",
       "    <tr>\n",
       "      <th>unique</th>\n",
       "      <td>       8957135</td>\n",
       "      <td>                    8954930</td>\n",
       "      <td>  596670.00000</td>\n",
       "      <td>  777944.00000</td>\n",
       "      <td>      77</td>\n",
       "      <td>      71</td>\n",
       "      <td>      69</td>\n",
       "      <td>     146</td>\n",
       "      <td>      283</td>\n",
       "      <td>      268</td>\n",
       "      <td>...</td>\n",
       "      <td>  203177</td>\n",
       "      <td>     931</td>\n",
       "      <td>    4332</td>\n",
       "      <td>      62</td>\n",
       "      <td>     828</td>\n",
       "      <td>       9</td>\n",
       "      <td>      13</td>\n",
       "      <td>       5</td>\n",
       "      <td>  162</td>\n",
       "      <td>  165</td>\n",
       "    </tr>\n",
       "    <tr>\n",
       "      <th>top</th>\n",
       "      <td> 1449320699000</td>\n",
       "      <td> 2015-12-05 13:20:16.000000</td>\n",
       "      <td>      41.44458</td>\n",
       "      <td>       2.85005</td>\n",
       "      <td>      14</td>\n",
       "      <td>      11</td>\n",
       "      <td>      31</td>\n",
       "      <td>      11</td>\n",
       "      <td> Movistar</td>\n",
       "      <td> movistar</td>\n",
       "      <td>...</td>\n",
       "      <td>      -1</td>\n",
       "      <td>      -1</td>\n",
       "      <td>       0</td>\n",
       "      <td>       0</td>\n",
       "      <td>      12</td>\n",
       "      <td>     gps</td>\n",
       "      <td>       0</td>\n",
       "      <td>    null</td>\n",
       "      <td> null</td>\n",
       "      <td> null</td>\n",
       "    </tr>\n",
       "    <tr>\n",
       "      <th>freq</th>\n",
       "      <td>            48</td>\n",
       "      <td>                         48</td>\n",
       "      <td>   11890.00000</td>\n",
       "      <td>    4309.00000</td>\n",
       "      <td>  576377</td>\n",
       "      <td>  542368</td>\n",
       "      <td>  621384</td>\n",
       "      <td>  572518</td>\n",
       "      <td>  2955643</td>\n",
       "      <td>  3967584</td>\n",
       "      <td>...</td>\n",
       "      <td>  228243</td>\n",
       "      <td> 5738137</td>\n",
       "      <td>  911532</td>\n",
       "      <td> 1386024</td>\n",
       "      <td>  413494</td>\n",
       "      <td> 8456683</td>\n",
       "      <td> 4810286</td>\n",
       "      <td> 2109051</td>\n",
       "      <td> 3608</td>\n",
       "      <td> 3608</td>\n",
       "    </tr>\n",
       "  </tbody>\n",
       "</table>\n",
       "<p>4 rows × 24 columns</p>\n",
       "</div>"
      ],
      "text/plain": [
       "            timestamp                        date            lat  \\\n",
       "count         9664100                     9664100  9664100.00000   \n",
       "unique        8957135                     8954930   596670.00000   \n",
       "top     1449320699000  2015-12-05 13:20:16.000000       41.44458   \n",
       "freq               48                          48    11890.00000   \n",
       "\n",
       "                  lng  signal_inst  signal_min  signal_max  signal_avg  \\\n",
       "count   9664100.00000      9664100     9664089     9664089     9664089   \n",
       "unique   777944.00000           77          71          69         146   \n",
       "top           2.85005           14          11          31          11   \n",
       "freq       4309.00000       576377      542368      621384      572518   \n",
       "\n",
       "         carrier fullCarrier     ...          cid      psc    speed  \\\n",
       "count    9523974     9523974     ...      9664089  9664088  9664088   \n",
       "unique       283         268     ...       203177      931     4332   \n",
       "top     Movistar    movistar     ...           -1       -1        0   \n",
       "freq     2955643     3967584     ...       228243  5738137   911532   \n",
       "\n",
       "        satellites  precision1  provider  activity  incident  downloadSpeed  \\\n",
       "count      9664088     9664086   9664087   9664087   2109969           3773   \n",
       "unique          62         828         9        13         5            162   \n",
       "top              0          12       gps         0      null           null   \n",
       "freq       1386024      413494   8456683   4810286   2109051           3608   \n",
       "\n",
       "       uploadSpeed  \n",
       "count         3773  \n",
       "unique         165  \n",
       "top           null  \n",
       "freq          3608  \n",
       "\n",
       "[4 rows x 24 columns]"
      ]
     },
     "execution_count": 4,
     "metadata": {},
     "output_type": "execute_result"
    }
   ],
   "source": [
    "data.describe()"
   ]
  },
  {
   "cell_type": "code",
   "execution_count": null,
   "metadata": {
    "collapsed": false
   },
   "outputs": [],
   "source": [
    "# Questions\n",
    "# When is a data point created\n",
    "data['incident'].hist()"
   ]
  },
  {
   "cell_type": "code",
   "execution_count": 5,
   "metadata": {
    "collapsed": false
   },
   "outputs": [
    {
     "data": {
      "text/plain": [
       "null              2109051\n",
       "callImpossible        409\n",
       "callFailed            306\n",
       "other                 202\n",
       "incident                1\n",
       "dtype: int64"
      ]
     },
     "execution_count": 5,
     "metadata": {},
     "output_type": "execute_result"
    }
   ],
   "source": [
    "data['incident'].value_counts()"
   ]
  },
  {
   "cell_type": "code",
   "execution_count": null,
   "metadata": {
    "collapsed": true
   },
   "outputs": [],
   "source": []
  }
 ],
 "metadata": {
  "kernelspec": {
   "display_name": "Python 2",
   "language": "python",
   "name": "python2"
  },
  "language_info": {
   "codemirror_mode": {
    "name": "ipython",
    "version": 2
   },
   "file_extension": ".py",
   "mimetype": "text/x-python",
   "name": "python",
   "nbconvert_exporter": "python",
   "pygments_lexer": "ipython2",
   "version": "2.7.9"
  }
 },
 "nbformat": 4,
 "nbformat_minor": 0
}
